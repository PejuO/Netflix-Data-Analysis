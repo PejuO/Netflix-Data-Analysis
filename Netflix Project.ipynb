{
 "cells": [
  {
   "cell_type": "markdown",
   "metadata": {},
   "source": [
    "This project analyzes my personal Netflix data. The goal is to find out the total amount of time I spent watching Lego Ninjago and when (days) do I watch it."
   ]
  },
  {
   "cell_type": "code",
   "execution_count": 1,
   "metadata": {},
   "outputs": [],
   "source": [
    "import pandas as pd\n",
    "\n",
    "df = pd.read_csv(r'C:\\Users\\DaReaders\\Desktop\\PythonPrograms\\Projects\\ViewingActivity.csv')"
   ]
  },
  {
   "cell_type": "markdown",
   "metadata": {},
   "source": [
    "Review data to make sure everything looks correct"
   ]
  },
  {
   "cell_type": "code",
   "execution_count": 2,
   "metadata": {},
   "outputs": [
    {
     "data": {
      "text/plain": [
       "(27340, 10)"
      ]
     },
     "execution_count": 2,
     "metadata": {},
     "output_type": "execute_result"
    }
   ],
   "source": [
    "df.shape"
   ]
  },
  {
   "cell_type": "markdown",
   "metadata": {},
   "source": [
    "Preview the first few rows of data"
   ]
  },
  {
   "cell_type": "code",
   "execution_count": 3,
   "metadata": {},
   "outputs": [
    {
     "data": {
      "text/html": [
       "<div>\n",
       "<style scoped>\n",
       "    .dataframe tbody tr th:only-of-type {\n",
       "        vertical-align: middle;\n",
       "    }\n",
       "\n",
       "    .dataframe tbody tr th {\n",
       "        vertical-align: top;\n",
       "    }\n",
       "\n",
       "    .dataframe thead th {\n",
       "        text-align: right;\n",
       "    }\n",
       "</style>\n",
       "<table border=\"1\" class=\"dataframe\">\n",
       "  <thead>\n",
       "    <tr style=\"text-align: right;\">\n",
       "      <th></th>\n",
       "      <th>Profile Name</th>\n",
       "      <th>Start Time</th>\n",
       "      <th>Duration</th>\n",
       "      <th>Attributes</th>\n",
       "      <th>Title</th>\n",
       "      <th>Supplemental Video Type</th>\n",
       "      <th>Device Type</th>\n",
       "      <th>Bookmark</th>\n",
       "      <th>Latest Bookmark</th>\n",
       "      <th>Country</th>\n",
       "    </tr>\n",
       "  </thead>\n",
       "  <tbody>\n",
       "    <tr>\n",
       "      <th>0</th>\n",
       "      <td>Ayo</td>\n",
       "      <td>11/24/2020 23:41</td>\n",
       "      <td>0:00:03</td>\n",
       "      <td>Autoplayed: user action: None;</td>\n",
       "      <td>Turbo FAST: Season 3: Hawaii Five-No  / The St...</td>\n",
       "      <td>NaN</td>\n",
       "      <td>Vizio MG176 MT5597 CAST/HYBRID INX Smart TV</td>\n",
       "      <td>0:00:41</td>\n",
       "      <td>0:00:41</td>\n",
       "      <td>US (United States)</td>\n",
       "    </tr>\n",
       "    <tr>\n",
       "      <th>1</th>\n",
       "      <td>Ayo</td>\n",
       "      <td>11/24/2020 23:19</td>\n",
       "      <td>0:22:12</td>\n",
       "      <td>Autoplayed: user action: None;</td>\n",
       "      <td>Turbo FAST: Season 3: Worst in Show / Belle of...</td>\n",
       "      <td>NaN</td>\n",
       "      <td>Vizio MG176 MT5597 CAST/HYBRID INX Smart TV</td>\n",
       "      <td>0:22:50</td>\n",
       "      <td>0:22:50</td>\n",
       "      <td>US (United States)</td>\n",
       "    </tr>\n",
       "    <tr>\n",
       "      <th>2</th>\n",
       "      <td>Ayo</td>\n",
       "      <td>11/24/2020 22:57</td>\n",
       "      <td>0:22:11</td>\n",
       "      <td>Autoplayed: user action: None;</td>\n",
       "      <td>Turbo FAST: Season 3: The Ants and the Grassho...</td>\n",
       "      <td>NaN</td>\n",
       "      <td>Vizio MG176 MT5597 CAST/HYBRID INX Smart TV</td>\n",
       "      <td>0:22:49</td>\n",
       "      <td>0:22:49</td>\n",
       "      <td>US (United States)</td>\n",
       "    </tr>\n",
       "    <tr>\n",
       "      <th>3</th>\n",
       "      <td>Ayo</td>\n",
       "      <td>11/24/2020 22:34</td>\n",
       "      <td>0:22:14</td>\n",
       "      <td>NaN</td>\n",
       "      <td>Turbo FAST: Season 3: Best Frenemies / The Jam...</td>\n",
       "      <td>NaN</td>\n",
       "      <td>Vizio MG176 MT5597 CAST/HYBRID INX Smart TV</td>\n",
       "      <td>0:22:49</td>\n",
       "      <td>0:22:49</td>\n",
       "      <td>US (United States)</td>\n",
       "    </tr>\n",
       "    <tr>\n",
       "      <th>4</th>\n",
       "      <td>Eddy</td>\n",
       "      <td>11/24/2020 19:45</td>\n",
       "      <td>0:03:06</td>\n",
       "      <td>NaN</td>\n",
       "      <td>Transporter 3</td>\n",
       "      <td>NaN</td>\n",
       "      <td>iPad Pro 2 12.9 (Wi-Fi/Cell)</td>\n",
       "      <td>0:03:06</td>\n",
       "      <td>0:03:06</td>\n",
       "      <td>DK (Denmark)</td>\n",
       "    </tr>\n",
       "  </tbody>\n",
       "</table>\n",
       "</div>"
      ],
      "text/plain": [
       "  Profile Name        Start Time Duration                       Attributes  \\\n",
       "0          Ayo  11/24/2020 23:41  0:00:03  Autoplayed: user action: None;    \n",
       "1          Ayo  11/24/2020 23:19  0:22:12  Autoplayed: user action: None;    \n",
       "2          Ayo  11/24/2020 22:57  0:22:11  Autoplayed: user action: None;    \n",
       "3          Ayo  11/24/2020 22:34  0:22:14                              NaN   \n",
       "4         Eddy  11/24/2020 19:45  0:03:06                              NaN   \n",
       "\n",
       "                                               Title Supplemental Video Type  \\\n",
       "0  Turbo FAST: Season 3: Hawaii Five-No  / The St...                     NaN   \n",
       "1  Turbo FAST: Season 3: Worst in Show / Belle of...                     NaN   \n",
       "2  Turbo FAST: Season 3: The Ants and the Grassho...                     NaN   \n",
       "3  Turbo FAST: Season 3: Best Frenemies / The Jam...                     NaN   \n",
       "4                                      Transporter 3                     NaN   \n",
       "\n",
       "                                   Device Type Bookmark Latest Bookmark  \\\n",
       "0  Vizio MG176 MT5597 CAST/HYBRID INX Smart TV  0:00:41         0:00:41   \n",
       "1  Vizio MG176 MT5597 CAST/HYBRID INX Smart TV  0:22:50         0:22:50   \n",
       "2  Vizio MG176 MT5597 CAST/HYBRID INX Smart TV  0:22:49         0:22:49   \n",
       "3  Vizio MG176 MT5597 CAST/HYBRID INX Smart TV  0:22:49         0:22:49   \n",
       "4                 iPad Pro 2 12.9 (Wi-Fi/Cell)  0:03:06         0:03:06   \n",
       "\n",
       "              Country  \n",
       "0  US (United States)  \n",
       "1  US (United States)  \n",
       "2  US (United States)  \n",
       "3  US (United States)  \n",
       "4        DK (Denmark)  "
      ]
     },
     "execution_count": 3,
     "metadata": {},
     "output_type": "execute_result"
    }
   ],
   "source": [
    "df.head()"
   ]
  },
  {
   "cell_type": "markdown",
   "metadata": {},
   "source": [
    "Drop unnecessary columns. This code analyzes how much and when LEGO Ninjago is watched. \n",
    "The only columns needed are the Start Time, Duration, and Title columns. Everything else can go."
   ]
  },
  {
   "cell_type": "code",
   "execution_count": 4,
   "metadata": {},
   "outputs": [
    {
     "data": {
      "text/html": [
       "<div>\n",
       "<style scoped>\n",
       "    .dataframe tbody tr th:only-of-type {\n",
       "        vertical-align: middle;\n",
       "    }\n",
       "\n",
       "    .dataframe tbody tr th {\n",
       "        vertical-align: top;\n",
       "    }\n",
       "\n",
       "    .dataframe thead th {\n",
       "        text-align: right;\n",
       "    }\n",
       "</style>\n",
       "<table border=\"1\" class=\"dataframe\">\n",
       "  <thead>\n",
       "    <tr style=\"text-align: right;\">\n",
       "      <th></th>\n",
       "      <th>Start Time</th>\n",
       "      <th>Duration</th>\n",
       "      <th>Title</th>\n",
       "    </tr>\n",
       "  </thead>\n",
       "  <tbody>\n",
       "    <tr>\n",
       "      <th>0</th>\n",
       "      <td>11/24/2020 23:41</td>\n",
       "      <td>0:00:03</td>\n",
       "      <td>Turbo FAST: Season 3: Hawaii Five-No  / The St...</td>\n",
       "    </tr>\n",
       "    <tr>\n",
       "      <th>1</th>\n",
       "      <td>11/24/2020 23:19</td>\n",
       "      <td>0:22:12</td>\n",
       "      <td>Turbo FAST: Season 3: Worst in Show / Belle of...</td>\n",
       "    </tr>\n",
       "    <tr>\n",
       "      <th>2</th>\n",
       "      <td>11/24/2020 22:57</td>\n",
       "      <td>0:22:11</td>\n",
       "      <td>Turbo FAST: Season 3: The Ants and the Grassho...</td>\n",
       "    </tr>\n",
       "    <tr>\n",
       "      <th>3</th>\n",
       "      <td>11/24/2020 22:34</td>\n",
       "      <td>0:22:14</td>\n",
       "      <td>Turbo FAST: Season 3: Best Frenemies / The Jam...</td>\n",
       "    </tr>\n",
       "    <tr>\n",
       "      <th>4</th>\n",
       "      <td>11/24/2020 19:45</td>\n",
       "      <td>0:03:06</td>\n",
       "      <td>Transporter 3</td>\n",
       "    </tr>\n",
       "  </tbody>\n",
       "</table>\n",
       "</div>"
      ],
      "text/plain": [
       "         Start Time Duration  \\\n",
       "0  11/24/2020 23:41  0:00:03   \n",
       "1  11/24/2020 23:19  0:22:12   \n",
       "2  11/24/2020 22:57  0:22:11   \n",
       "3  11/24/2020 22:34  0:22:14   \n",
       "4  11/24/2020 19:45  0:03:06   \n",
       "\n",
       "                                               Title  \n",
       "0  Turbo FAST: Season 3: Hawaii Five-No  / The St...  \n",
       "1  Turbo FAST: Season 3: Worst in Show / Belle of...  \n",
       "2  Turbo FAST: Season 3: The Ants and the Grassho...  \n",
       "3  Turbo FAST: Season 3: Best Frenemies / The Jam...  \n",
       "4                                      Transporter 3  "
      ]
     },
     "execution_count": 4,
     "metadata": {},
     "output_type": "execute_result"
    }
   ],
   "source": [
    "df = df.drop(['Profile Name', 'Attributes', 'Supplemental Video Type', 'Device Type', 'Bookmark', 'Latest Bookmark', 'Country'], axis=1)\n",
    "df.head(5)"
   ]
  },
  {
   "cell_type": "markdown",
   "metadata": {},
   "source": [
    "Convert Strings to Datetime and Timedelta in Pandas.\n",
    "First obtain the list of the data types for each column in the dataframe "
   ]
  },
  {
   "cell_type": "code",
   "execution_count": 5,
   "metadata": {},
   "outputs": [
    {
     "data": {
      "text/plain": [
       "Start Time    object\n",
       "Duration      object\n",
       "Title         object\n",
       "dtype: object"
      ]
     },
     "execution_count": 5,
     "metadata": {},
     "output_type": "execute_result"
    }
   ],
   "source": [
    "df.dtypes"
   ]
  },
  {
   "cell_type": "markdown",
   "metadata": {},
   "source": [
    "Convert Start Time to datetime (a data and time format pandas can understand and perform calculations with)"
   ]
  },
  {
   "cell_type": "code",
   "execution_count": 6,
   "metadata": {},
   "outputs": [
    {
     "data": {
      "text/plain": [
       "Start Time    datetime64[ns, UTC]\n",
       "Duration                   object\n",
       "Title                      object\n",
       "dtype: object"
      ]
     },
     "execution_count": 6,
     "metadata": {},
     "output_type": "execute_result"
    }
   ],
   "source": [
    "df['Start Time'] = pd.to_datetime(df['Start Time'], utc=True)\n",
    "df.dtypes"
   ]
  },
  {
   "cell_type": "markdown",
   "metadata": {},
   "source": [
    "Convert Start Time from UTC to our local timezone"
   ]
  },
  {
   "cell_type": "code",
   "execution_count": 7,
   "metadata": {},
   "outputs": [
    {
     "data": {
      "text/html": [
       "<div>\n",
       "<style scoped>\n",
       "    .dataframe tbody tr th:only-of-type {\n",
       "        vertical-align: middle;\n",
       "    }\n",
       "\n",
       "    .dataframe tbody tr th {\n",
       "        vertical-align: top;\n",
       "    }\n",
       "\n",
       "    .dataframe thead th {\n",
       "        text-align: right;\n",
       "    }\n",
       "</style>\n",
       "<table border=\"1\" class=\"dataframe\">\n",
       "  <thead>\n",
       "    <tr style=\"text-align: right;\">\n",
       "      <th></th>\n",
       "      <th>Start Time</th>\n",
       "      <th>Duration</th>\n",
       "      <th>Title</th>\n",
       "    </tr>\n",
       "  </thead>\n",
       "  <tbody>\n",
       "    <tr>\n",
       "      <th>0</th>\n",
       "      <td>2020-11-24 18:41:00-05:00</td>\n",
       "      <td>0:00:03</td>\n",
       "      <td>Turbo FAST: Season 3: Hawaii Five-No  / The St...</td>\n",
       "    </tr>\n",
       "  </tbody>\n",
       "</table>\n",
       "</div>"
      ],
      "text/plain": [
       "                 Start Time Duration  \\\n",
       "0 2020-11-24 18:41:00-05:00  0:00:03   \n",
       "\n",
       "                                               Title  \n",
       "0  Turbo FAST: Season 3: Hawaii Five-No  / The St...  "
      ]
     },
     "execution_count": 7,
     "metadata": {},
     "output_type": "execute_result"
    }
   ],
   "source": [
    "# change the Start Time column into the dataframe's index\n",
    "df = df.set_index('Start Time')\n",
    "\n",
    "# convert from UTC timezone to eastern time\n",
    "df.index = df.index.tz_convert('US/Eastern')\n",
    "\n",
    "# reset the index so that Start Time becomes a column again\n",
    "df = df.reset_index()\n",
    "\n",
    "#double-check that it worked\n",
    "df.head(1)"
   ]
  },
  {
   "cell_type": "markdown",
   "metadata": {},
   "source": [
    "Convert Duration to timedelta (a time duration format pandas can understand and perform calculations with)"
   ]
  },
  {
   "cell_type": "code",
   "execution_count": 8,
   "metadata": {},
   "outputs": [
    {
     "data": {
      "text/plain": [
       "Start Time    datetime64[ns, US/Eastern]\n",
       "Duration                 timedelta64[ns]\n",
       "Title                             object\n",
       "dtype: object"
      ]
     },
     "execution_count": 8,
     "metadata": {},
     "output_type": "execute_result"
    }
   ],
   "source": [
    "df['Duration'] = pd.to_timedelta(df['Duration'])\n",
    "df.dtypes"
   ]
  },
  {
   "cell_type": "markdown",
   "metadata": {},
   "source": [
    "Filter Strings by Substring in pandas Using str.contains. Create a new dataframe called model that that takes from df.\n",
    "Only the rows in which the Title column contains 'LEGO Ninjago'"
   ]
  },
  {
   "cell_type": "code",
   "execution_count": 9,
   "metadata": {},
   "outputs": [],
   "source": [
    "model = df[df['Title'].str.contains('LEGO Ninjago', regex=False)]"
   ]
  },
  {
   "cell_type": "code",
   "execution_count": 10,
   "metadata": {},
   "outputs": [
    {
     "data": {
      "text/plain": [
       "(913, 3)"
      ]
     },
     "execution_count": 10,
     "metadata": {},
     "output_type": "execute_result"
    }
   ],
   "source": [
    "# Check the size of the new dataframe\n",
    "model.shape"
   ]
  },
  {
   "cell_type": "markdown",
   "metadata": {},
   "source": [
    "Filter out short durations. Filter office dataframe by limiting it to only rows where the Duration value is greater than one minute"
   ]
  },
  {
   "cell_type": "code",
   "execution_count": 19,
   "metadata": {},
   "outputs": [
    {
     "data": {
      "text/html": [
       "<div>\n",
       "<style scoped>\n",
       "    .dataframe tbody tr th:only-of-type {\n",
       "        vertical-align: middle;\n",
       "    }\n",
       "\n",
       "    .dataframe tbody tr th {\n",
       "        vertical-align: top;\n",
       "    }\n",
       "\n",
       "    .dataframe thead th {\n",
       "        text-align: right;\n",
       "    }\n",
       "</style>\n",
       "<table border=\"1\" class=\"dataframe\">\n",
       "  <thead>\n",
       "    <tr style=\"text-align: right;\">\n",
       "      <th></th>\n",
       "      <th>Start Time</th>\n",
       "      <th>Duration</th>\n",
       "      <th>Title</th>\n",
       "      <th>weekday</th>\n",
       "      <th>hour</th>\n",
       "    </tr>\n",
       "  </thead>\n",
       "  <tbody>\n",
       "    <tr>\n",
       "      <th>58</th>\n",
       "      <td>2020-11-22 15:57:00-05:00</td>\n",
       "      <td>0 days 00:04:37</td>\n",
       "      <td>LEGO Ninjago: Season 2: Episode 24</td>\n",
       "      <td>6</td>\n",
       "      <td>15</td>\n",
       "    </tr>\n",
       "    <tr>\n",
       "      <th>69</th>\n",
       "      <td>2020-11-22 12:06:00-05:00</td>\n",
       "      <td>0 days 00:05:57</td>\n",
       "      <td>LEGO Ninjago: Season 2: Episode 24</td>\n",
       "      <td>6</td>\n",
       "      <td>12</td>\n",
       "    </tr>\n",
       "    <tr>\n",
       "      <th>70</th>\n",
       "      <td>2020-11-22 12:03:00-05:00</td>\n",
       "      <td>0 days 00:02:19</td>\n",
       "      <td>LEGO Ninjago: Season 2: Episode 23</td>\n",
       "      <td>6</td>\n",
       "      <td>12</td>\n",
       "    </tr>\n",
       "    <tr>\n",
       "      <th>71</th>\n",
       "      <td>2020-11-22 11:56:00-05:00</td>\n",
       "      <td>0 days 00:06:26</td>\n",
       "      <td>LEGO Ninjago: Season 2: Episode 23</td>\n",
       "      <td>6</td>\n",
       "      <td>11</td>\n",
       "    </tr>\n",
       "    <tr>\n",
       "      <th>72</th>\n",
       "      <td>2020-11-22 11:47:00-05:00</td>\n",
       "      <td>0 days 00:08:48</td>\n",
       "      <td>LEGO Ninjago: Season 2: Episode 22</td>\n",
       "      <td>6</td>\n",
       "      <td>11</td>\n",
       "    </tr>\n",
       "  </tbody>\n",
       "</table>\n",
       "</div>"
      ],
      "text/plain": [
       "                  Start Time        Duration  \\\n",
       "58 2020-11-22 15:57:00-05:00 0 days 00:04:37   \n",
       "69 2020-11-22 12:06:00-05:00 0 days 00:05:57   \n",
       "70 2020-11-22 12:03:00-05:00 0 days 00:02:19   \n",
       "71 2020-11-22 11:56:00-05:00 0 days 00:06:26   \n",
       "72 2020-11-22 11:47:00-05:00 0 days 00:08:48   \n",
       "\n",
       "                                 Title weekday hour  \n",
       "58  LEGO Ninjago: Season 2: Episode 24       6   15  \n",
       "69  LEGO Ninjago: Season 2: Episode 24       6   12  \n",
       "70  LEGO Ninjago: Season 2: Episode 23       6   12  \n",
       "71  LEGO Ninjago: Season 2: Episode 23       6   11  \n",
       "72  LEGO Ninjago: Season 2: Episode 22       6   11  "
      ]
     },
     "execution_count": 19,
     "metadata": {},
     "output_type": "execute_result"
    }
   ],
   "source": [
    "model = model[(model['Duration'] > '0 days 00:01:00')]\n",
    "model.shape\n",
    "model.head(5)"
   ]
  },
  {
   "cell_type": "markdown",
   "metadata": {},
   "source": [
    "Analyze the data.\n",
    "First how much time was spent watching LEGO Ninjago."
   ]
  },
  {
   "cell_type": "code",
   "execution_count": 13,
   "metadata": {},
   "outputs": [
    {
     "data": {
      "text/plain": [
       "Timedelta('7 days 12:15:45')"
      ]
     },
     "execution_count": 13,
     "metadata": {},
     "output_type": "execute_result"
    }
   ],
   "source": [
    "model['Duration'].sum()"
   ]
  },
  {
   "cell_type": "markdown",
   "metadata": {},
   "source": [
    "Find out when LEGO Ninjago is watched. "
   ]
  },
  {
   "cell_type": "code",
   "execution_count": 14,
   "metadata": {},
   "outputs": [
    {
     "data": {
      "text/html": [
       "<div>\n",
       "<style scoped>\n",
       "    .dataframe tbody tr th:only-of-type {\n",
       "        vertical-align: middle;\n",
       "    }\n",
       "\n",
       "    .dataframe tbody tr th {\n",
       "        vertical-align: top;\n",
       "    }\n",
       "\n",
       "    .dataframe thead th {\n",
       "        text-align: right;\n",
       "    }\n",
       "</style>\n",
       "<table border=\"1\" class=\"dataframe\">\n",
       "  <thead>\n",
       "    <tr style=\"text-align: right;\">\n",
       "      <th></th>\n",
       "      <th>Start Time</th>\n",
       "      <th>Duration</th>\n",
       "      <th>Title</th>\n",
       "      <th>weekday</th>\n",
       "      <th>hour</th>\n",
       "    </tr>\n",
       "  </thead>\n",
       "  <tbody>\n",
       "    <tr>\n",
       "      <th>58</th>\n",
       "      <td>2020-11-22 15:57:00-05:00</td>\n",
       "      <td>0 days 00:04:37</td>\n",
       "      <td>LEGO Ninjago: Season 2: Episode 24</td>\n",
       "      <td>6</td>\n",
       "      <td>15</td>\n",
       "    </tr>\n",
       "  </tbody>\n",
       "</table>\n",
       "</div>"
      ],
      "text/plain": [
       "                  Start Time        Duration  \\\n",
       "58 2020-11-22 15:57:00-05:00 0 days 00:04:37   \n",
       "\n",
       "                                 Title  weekday  hour  \n",
       "58  LEGO Ninjago: Season 2: Episode 24        6    15  "
      ]
     },
     "execution_count": 14,
     "metadata": {},
     "output_type": "execute_result"
    }
   ],
   "source": [
    "#On which days of the week have I watched the most LEGO Ninjago episodes?\n",
    "model['weekday'] = model['Start Time'].dt.weekday\n",
    "\n",
    "#During which hours of the day do I most often start LEGO Ninjago episodes?\n",
    "model['hour'] = model['Start Time'].dt.hour\n",
    "\n",
    "# check to make sure the columns were added correctly\n",
    "model.head(1)"
   ]
  },
  {
   "cell_type": "markdown",
   "metadata": {},
   "source": [
    "Visualize Result.\n",
    "Plot a chart of viewing habits by day of the week"
   ]
  },
  {
   "cell_type": "code",
   "execution_count": 15,
   "metadata": {},
   "outputs": [],
   "source": [
    "%matplotlib inline\n",
    "import matplotlib"
   ]
  },
  {
   "cell_type": "code",
   "execution_count": 16,
   "metadata": {},
   "outputs": [
    {
     "data": {
      "text/plain": [
       "<AxesSubplot:title={'center':'LEGO Ninjago Episodes Watched by Day'}>"
      ]
     },
     "execution_count": 16,
     "metadata": {},
     "output_type": "execute_result"
    },
    {
     "data": {
      "image/png": "[encoded data removed]",
      "text/plain": [
       "<Figure size 1440x720 with 1 Axes>"
      ]
     },
     "metadata": {
      "needs_background": "light"
     },
     "output_type": "display_data"
    }
   ],
   "source": [
    "# set our categorical and define the order so the days are plotted Monday-Sunday\n",
    "model['weekday'] = pd.Categorical(model['weekday'], categories=\n",
    "    [0,1,2,3,4,5,6],\n",
    "    ordered=True)\n",
    "\n",
    "# create model_by_day and count the rows for each weekday, assigning the result to that variable\n",
    "model_by_day = model['weekday'].value_counts()\n",
    "\n",
    "# sort the index using our categorical, so that Monday (0) is first, Tuesday (1) is second, etc.\n",
    "model_by_day = model_by_day.sort_index()\n",
    "\n",
    "# optional: update the font size to make it a bit larger and easier to read\n",
    "matplotlib.rcParams.update({'font.size': 22})\n",
    "\n",
    "# plot model_by_day as a bar chart with the listed size and title\n",
    "model_by_day.plot(kind='bar', figsize=(20,10), title='LEGO Ninjago Episodes Watched by Day')"
   ]
  },
  {
   "cell_type": "code",
   "execution_count": 17,
   "metadata": {},
   "outputs": [
    {
     "data": {
      "text/plain": [
       "<AxesSubplot:title={'center':'LEGO Ninjago Episodes Watched by Hour'}>"
      ]
     },
     "execution_count": 17,
     "metadata": {},
     "output_type": "execute_result"
    },
    {
     "data": {
      "image/png": "[encoded data removed]",
      "text/plain": [
       "<Figure size 1440x720 with 1 Axes>"
      ]
     },
     "metadata": {
      "needs_background": "light"
     },
     "output_type": "display_data"
    }
   ],
   "source": [
    "# set our categorical and define the order so the hours are plotted 0-23\n",
    "model['hour'] = pd.Categorical(model['hour'], categories=\n",
    "    [0,1,2,3,4,5,6,7,8,9,10,11,12,13,14,15,16,17,18,19,20,21,22,23],\n",
    "    ordered=True)\n",
    "\n",
    "# create model_by_hour and count the rows for each hour, assigning the result to that variable\n",
    "model_by_hour = model['hour'].value_counts()\n",
    "\n",
    "# sort the index using our categorical, so that midnight (0) is first, 1 a.m. (1) is second, etc.\n",
    "model_by_hour = model_by_hour.sort_index()\n",
    "\n",
    "# plot model_by_hour as a bar chart with the listed size and title\n",
    "model_by_hour.plot(kind='bar', figsize=(20,10), title='LEGO Ninjago Episodes Watched by Hour')"
   ]
  }
 ],
 "metadata": {
  "kernelspec": {
   "display_name": "Python 3",
   "language": "python",
   "name": "python3"
  },
  "language_info": {
   "codemirror_mode": {
    "name": "ipython",
    "version": 3
   },
   "file_extension": ".py",
   "mimetype": "text/x-python",
   "name": "python",
   "nbconvert_exporter": "python",
   "pygments_lexer": "ipython3",
   "version": "3.8.3"
  }
 },
 "nbformat": 4,
 "nbformat_minor": 4
}
